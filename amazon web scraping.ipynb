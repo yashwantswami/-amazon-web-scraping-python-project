{
 "cells": [
  {
   "cell_type": "code",
   "execution_count": 1,
   "id": "6777f08f",
   "metadata": {},
   "outputs": [],
   "source": [
    "from bs4 import BeautifulSoup\n",
    "import requests\n",
    "import pandas as pd"
   ]
  },
  {
   "cell_type": "code",
   "execution_count": 2,
   "id": "ba18858c",
   "metadata": {},
   "outputs": [],
   "source": [
    "URL = \"https://www.amazon.com/s?k=playstation+5&crid=3BV45YDFQQE2G&sprefix=playstation+4%2Caps%2C269&ref=nb_sb_noss_2\""
   ]
  },
  {
   "cell_type": "markdown",
   "id": "3ba01429",
   "metadata": {},
   "source": [
    "*User agent can be get by following steps*\n",
    "1. Open and search What is my browser.com \n",
    "2. Click on detect my setting \n",
    "3. Go to What is my user agent? \n",
    "4. Where You find your user agent"
   ]
  },
  {
   "cell_type": "code",
   "execution_count": 3,
   "id": "795e80eb",
   "metadata": {},
   "outputs": [],
   "source": [
    "#Headers for request\n",
    "HEADERS = ({'User-Agent': '', 'Accept-Language': 'en-US, en;q=0.5'}) #add your user agent"
   ]
  },
  {
   "cell_type": "code",
   "execution_count": 4,
   "id": "607f0eb2",
   "metadata": {},
   "outputs": [],
   "source": [
    "#HTTP request\n",
    "webpage = requests.get(URL, headers = HEADERS)"
   ]
  },
  {
   "cell_type": "code",
   "execution_count": 5,
   "id": "87f4216b",
   "metadata": {},
   "outputs": [
    {
     "data": {
      "text/plain": [
       "<Response [200]>"
      ]
     },
     "execution_count": 5,
     "metadata": {},
     "output_type": "execute_result"
    }
   ],
   "source": [
    "webpage #checking that reponse ok (200)"
   ]
  },
  {
   "cell_type": "code",
   "execution_count": 6,
   "id": "99ce9f63",
   "metadata": {},
   "outputs": [
    {
     "data": {
      "text/plain": [
       "bytes"
      ]
     },
     "execution_count": 6,
     "metadata": {},
     "output_type": "execute_result"
    }
   ],
   "source": [
    "# webpage.content\n",
    "type(webpage.content)"
   ]
  },
  {
   "cell_type": "code",
   "execution_count": 7,
   "id": "a73cf3cc",
   "metadata": {},
   "outputs": [],
   "source": [
    "# Soup Object containiang all data\n",
    "soup = BeautifulSoup(webpage.content, \"html.parser\")"
   ]
  },
  {
   "cell_type": "code",
   "execution_count": 8,
   "id": "4e03e413",
   "metadata": {},
   "outputs": [],
   "source": [
    "# soup"
   ]
  },
  {
   "cell_type": "code",
   "execution_count": 9,
   "id": "7044931b",
   "metadata": {},
   "outputs": [],
   "source": [
    "# Fetch links as List of Tag Objects\n",
    "links = soup.find_all(\"a\", attrs={'class':'a-link-normal s-underline-text s-underline-link-text s-link-style a-text-normal'})"
   ]
  },
  {
   "cell_type": "code",
   "execution_count": 10,
   "id": "ae27f30c",
   "metadata": {},
   "outputs": [],
   "source": [
    "# links\n",
    "link = links[0].get('href')"
   ]
  },
  {
   "cell_type": "code",
   "execution_count": 11,
   "id": "9c8c1e56",
   "metadata": {},
   "outputs": [],
   "source": [
    "product_list = \"https://www.amazon.com\" + link"
   ]
  },
  {
   "cell_type": "code",
   "execution_count": 12,
   "id": "ef524d27",
   "metadata": {},
   "outputs": [
    {
     "data": {
      "text/plain": [
       "'https://www.amazon.com/PlayStation-PS5-Console-Ragnar%C3%B6k-Bundle-5/dp/B0BHC395WW/ref=sr_1_1?crid=3BV45YDFQQE2G&keywords=playstation+5&qid=1683793293&sprefix=playstation+4%2Caps%2C269&sr=8-1'"
      ]
     },
     "execution_count": 12,
     "metadata": {},
     "output_type": "execute_result"
    }
   ],
   "source": [
    "product_list"
   ]
  },
  {
   "cell_type": "code",
   "execution_count": 13,
   "id": "f3e9f893",
   "metadata": {},
   "outputs": [],
   "source": [
    "new_webpage = requests.get(product_list, headers = HEADERS)"
   ]
  },
  {
   "cell_type": "code",
   "execution_count": 14,
   "id": "ff8906c7",
   "metadata": {},
   "outputs": [
    {
     "data": {
      "text/plain": [
       "<Response [200]>"
      ]
     },
     "execution_count": 14,
     "metadata": {},
     "output_type": "execute_result"
    }
   ],
   "source": [
    "new_webpage"
   ]
  },
  {
   "cell_type": "code",
   "execution_count": 15,
   "id": "4b76d98e",
   "metadata": {},
   "outputs": [],
   "source": [
    "# Soup Object containiang all data\n",
    "new_soup = BeautifulSoup(new_webpage.content, \"html.parser\")"
   ]
  },
  {
   "cell_type": "code",
   "execution_count": 16,
   "id": "ba998c87",
   "metadata": {},
   "outputs": [
    {
     "data": {
      "text/plain": [
       "'PlayStation PS5 Console – God of War Ragnarök Bundle'"
      ]
     },
     "execution_count": 16,
     "metadata": {},
     "output_type": "execute_result"
    }
   ],
   "source": [
    "new_soup.find(\"span\", attrs={\"id\":'productTitle'}).text.strip()"
   ]
  },
  {
   "cell_type": "code",
   "execution_count": 17,
   "id": "b15c3c08",
   "metadata": {},
   "outputs": [],
   "source": [
    "# new_soup.find(\"span\", attrs={\"class\":'a-price a-text-price a-size-medium'}).find(\"span\", attrs={\"class\":\"a-offscreen\"}).text"
   ]
  },
  {
   "cell_type": "code",
   "execution_count": 18,
   "id": "2f240350",
   "metadata": {},
   "outputs": [
    {
     "data": {
      "text/plain": [
       "'$509.00'"
      ]
     },
     "execution_count": 18,
     "metadata": {},
     "output_type": "execute_result"
    }
   ],
   "source": [
    "new_soup.find(\"span\", attrs={\"class\":\"a-offscreen\"}).text"
   ]
  },
  {
   "cell_type": "code",
   "execution_count": 19,
   "id": "625322a4",
   "metadata": {},
   "outputs": [
    {
     "data": {
      "text/plain": [
       "'4.8 out of 5 stars'"
      ]
     },
     "execution_count": 19,
     "metadata": {},
     "output_type": "execute_result"
    }
   ],
   "source": [
    "new_soup.find(\"span\", attrs={\"class\":'a-icon-alt'}).text\n"
   ]
  },
  {
   "cell_type": "code",
   "execution_count": null,
   "id": "f09c0afe",
   "metadata": {},
   "outputs": [],
   "source": []
  }
 ],
 "metadata": {
  "kernelspec": {
   "display_name": "Python 3 (ipykernel)",
   "language": "python",
   "name": "python3"
  },
  "language_info": {
   "codemirror_mode": {
    "name": "ipython",
    "version": 3
   },
   "file_extension": ".py",
   "mimetype": "text/x-python",
   "name": "python",
   "nbconvert_exporter": "python",
   "pygments_lexer": "ipython3",
   "version": "3.11.3"
  }
 },
 "nbformat": 4,
 "nbformat_minor": 5
}
